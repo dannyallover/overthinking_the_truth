{
 "cells": [
  {
   "cell_type": "markdown",
   "id": "6f902fff",
   "metadata": {},
   "source": [
    "# Ablations Demo"
   ]
  },
  {
   "cell_type": "code",
   "execution_count": 1,
   "id": "5dad5206",
   "metadata": {},
   "outputs": [
    {
     "name": "stdout",
     "output_type": "stream",
     "text": [
      "Fri Jul 14 11:53:56 2023       \n",
      "+---------------------------------------------------------------------------------------+\n",
      "| NVIDIA-SMI 530.30.02              Driver Version: 530.30.02    CUDA Version: 12.1     |\n",
      "|-----------------------------------------+----------------------+----------------------+\n",
      "| GPU  Name                  Persistence-M| Bus-Id        Disp.A | Volatile Uncorr. ECC |\n",
      "| Fan  Temp  Perf            Pwr:Usage/Cap|         Memory-Usage | GPU-Util  Compute M. |\n",
      "|                                         |                      |               MIG M. |\n",
      "|=========================================+======================+======================|\n",
      "|   0  NVIDIA A100 80GB PCIe           On | 00000000:56:00.0 Off |                    0 |\n",
      "| N/A   39C    P0               56W / 300W|      0MiB / 81920MiB |      0%      Default |\n",
      "|                                         |                      |             Disabled |\n",
      "+-----------------------------------------+----------------------+----------------------+\n",
      "|   1  NVIDIA A100 80GB PCIe           On | 00000000:D5:00.0 Off |                    0 |\n",
      "| N/A   30C    P0               52W / 300W|      0MiB / 81920MiB |      0%      Default |\n",
      "|                                         |                      |             Disabled |\n",
      "+-----------------------------------------+----------------------+----------------------+\n",
      "|   2  NVIDIA A100 80GB PCIe           On | 00000000:D6:00.0 Off |                    0 |\n",
      "| N/A   31C    P0               55W / 300W|      0MiB / 81920MiB |      0%      Default |\n",
      "|                                         |                      |             Disabled |\n",
      "+-----------------------------------------+----------------------+----------------------+\n",
      "                                                                                         \n",
      "+---------------------------------------------------------------------------------------+\n",
      "| Processes:                                                                            |\n",
      "|  GPU   GI   CI        PID   Type   Process name                            GPU Memory |\n",
      "|        ID   ID                                                             Usage      |\n",
      "|=======================================================================================|\n",
      "|  No running processes found                                                           |\n",
      "+---------------------------------------------------------------------------------------+\n"
     ]
    }
   ],
   "source": [
    "!nvidia-smi"
   ]
  },
  {
   "cell_type": "code",
   "execution_count": 2,
   "id": "4441ff4d",
   "metadata": {},
   "outputs": [],
   "source": [
    "%load_ext autoreload\n",
    "%autoreload 2"
   ]
  },
  {
   "cell_type": "code",
   "execution_count": 3,
   "id": "66dbaa7b",
   "metadata": {},
   "outputs": [],
   "source": [
    "import sys\n",
    "import pickle\n",
    "import os\n",
    "\n",
    "sys.path.append(\"../../dev\")\n",
    "from utils import *\n",
    "from hooks import *\n",
    "from model import *\n",
    "from prefixes import *\n",
    "from metrics import *\n",
    "from visualize import *\n",
    "\n",
    "sys.path.append(\"../../model\")\n",
    "from model_params import *\n",
    "\n",
    "sys.path.append(\"../../data\")\n",
    "from dataset_params import *\n",
    "from prompt_params import *\n",
    "from demo_params import *"
   ]
  },
  {
   "cell_type": "markdown",
   "id": "b4d6ea03",
   "metadata": {},
   "source": [
    "## 1) Setup"
   ]
  },
  {
   "cell_type": "markdown",
   "id": "24f09389",
   "metadata": {},
   "source": [
    "Pick \\\n",
    "(1) Model (gpt_j, gpt2_xl, gpt_neox) \\\n",
    "(2) Dataset (sst2, unnatural, agnews, etc) \\\n",
    "(3) Setting (permuted_incorrect_labels, half_permuted_incorrect_labels, random_labels, etc)"
   ]
  },
  {
   "cell_type": "code",
   "execution_count": 4,
   "id": "fb39555d",
   "metadata": {},
   "outputs": [],
   "source": [
    "model_name = \"gpt_j\"\n",
    "dataset = \"sst2\"\n",
    "setting = \"permuted_incorrect_labels\"\n",
    "prompt_format_indx = 0 # use first prompt format\n",
    "num_inputs = 250\n",
    "num_demos = 40"
   ]
  },
  {
   "cell_type": "code",
   "execution_count": 5,
   "id": "c219d58c",
   "metadata": {},
   "outputs": [],
   "source": [
    "model_params = MODEL_PARAMS[model_name]\n",
    "dataset_params = DATASET_PARAMS[dataset]\n",
    "prompt_params = PROMPT_PARAMS[dataset][prompt_format_indx]\n",
    "demo_params = DEMO_PARAMS[setting]"
   ]
  },
  {
   "cell_type": "markdown",
   "id": "fd8464cc",
   "metadata": {},
   "source": [
    "## 2) Get Model and Tokenizer"
   ]
  },
  {
   "cell_type": "code",
   "execution_count": 6,
   "id": "bb0c0168",
   "metadata": {},
   "outputs": [],
   "source": [
    "file_path = model_params[\"file_path\"]\n",
    "model, tokenizer = get_model_and_tokenizer(file_path)"
   ]
  },
  {
   "cell_type": "markdown",
   "id": "64c16ce6",
   "metadata": {},
   "source": [
    "## 3) Get Dataset"
   ]
  },
  {
   "cell_type": "code",
   "execution_count": 7,
   "id": "2ac0e7a8",
   "metadata": {},
   "outputs": [
    {
     "name": "stdout",
     "output_type": "stream",
     "text": [
      "*Fetch data.*\n"
     ]
    },
    {
     "name": "stderr",
     "output_type": "stream",
     "text": [
      "Found cached dataset sst2 (/tmp/.xdg_cache_dhalawi/huggingface/datasets/sst2/default/2.0.0/9896208a8d85db057ac50c72282bcb8fe755accc671a57dd8059d4e130961ed5)\n"
     ]
    },
    {
     "name": "stdout",
     "output_type": "stream",
     "text": [
      "There are 2 classes.\n",
      "There are 29780 examples per class.\n"
     ]
    }
   ],
   "source": [
    "print(\"*Fetch data.*\")\n",
    "dataset = get_dataset(dataset_params)\n",
    "\n",
    "print(f\"There are {len(dataset)} classes.\")\n",
    "print(f\"There are {len(dataset[0])} examples per class.\")"
   ]
  },
  {
   "cell_type": "markdown",
   "id": "8c81de74",
   "metadata": {},
   "source": [
    "## 4) Construct Prefixes"
   ]
  },
  {
   "cell_type": "code",
   "execution_count": 8,
   "id": "dd6d3229",
   "metadata": {},
   "outputs": [
    {
     "name": "stdout",
     "output_type": "stream",
     "text": [
      "*Build prefixes.*\n",
      "True prefix example:\n",
      "--------------------\n",
      "Review: a brutal 90-minute battle sequence that does everything but issue you a dog-tag and an m-16 \n",
      "Answer: Positive.\n",
      "\n",
      "Review: that takes such a speedy swan dive from `` promising '' \n",
      "Answer: Negative.\n",
      "\n",
      "Review: if you saw it on tv , you 'd probably turn it off , convinced that you had already seen that movie . \n",
      "Answer: Negative.\n",
      "\n",
      "Review: first-time director joão pedro rodrigues ' unwillingness to define his hero 's background or motivations \n",
      "Answer: Negative.\n",
      "\n",
      "Review: alas , it collapses like an overcooked soufflé . \n",
      "Answer: Negative.\n",
      "\n",
      "Review: to ignite sparks \n",
      "Answer: Positive.\n",
      "\n",
      "Review: enactments , however fascinating they may be as history , \n",
      "Answer: Positive.\n",
      "\n",
      "Review: is hugely overwritten , \n",
      "Answer: Negative.\n",
      "\n",
      "Review: sensuality \n",
      "Answer: Positive.\n",
      "\n",
      "Review: subzero \n",
      "Answer: Negative.\n",
      "\n",
      "Review: watching the proverbial paint dry would be a welcome improvement \n",
      "Answer: Negative.\n",
      "\n",
      "Review: 's hard to imagine any recent film , independent or otherwise , that makes as much of a mess as this one . \n",
      "Answer: Negative.\n",
      "\n",
      "Review: this movie ... does n't deserve the energy it takes to describe how bad it is . \n",
      "Answer: Negative.\n",
      "\n",
      "Review: a plodding mess \n",
      "Answer: Negative.\n",
      "\n",
      "Review: each story is built on a potentially interesting idea \n",
      "Answer: Positive.\n",
      "\n",
      "Review: happens to be the movie 's most admirable quality \n",
      "Answer: Positive.\n",
      "\n",
      "Review: little uneven \n",
      "Answer: Negative.\n",
      "\n",
      "Review: does n't quite do justice to the awfulness of the movie , for that comes through all too painfully in the execution . \n",
      "Answer: Negative.\n",
      "\n",
      "Review: the appeal of the vulgar , sexist , racist humor went over my head or -- considering just how low brow it is -- perhaps it snuck under my feet \n",
      "Answer: Negative.\n",
      "\n",
      "Review: too many films that can be as simultaneously funny , offbeat and heartwarming ( without a thick shmear of the goo , at least ) \n",
      "Answer: Positive.\n",
      "\n",
      "Review: 's ) a clever thriller with enough unexpected twists to keep our interest \n",
      "Answer: Positive.\n",
      "\n",
      "Review: the filmmakers could dredge up \n",
      "Answer: Negative.\n",
      "\n",
      "Review: has the thrown-together feel of a summer-camp talent show : hastily written , underrehearsed , arbitrarily plotted and filled with crude humor and vulgar innuendo . \n",
      "Answer: Negative.\n",
      "\n",
      "Review: shifting in your chair too often \n",
      "Answer: Negative.\n",
      "\n",
      "Review: it 's better to go in knowing full well what 's going to happen , but willing to let the earnestness of its execution and skill of its cast take you down a familiar road with a few twists . \n",
      "Answer: Positive.\n",
      "\n",
      "Review: mr. nelson has made a film that is an undeniably worthy and devastating experience . \n",
      "Answer: Positive.\n",
      "\n",
      "Review: sounding \n",
      "Answer: Positive.\n",
      "\n",
      "Review: has a number of holes \n",
      "Answer: Negative.\n",
      "\n",
      "Review: the only possible complaint you could have about spirited away is that there is no rest period , no timeout \n",
      "Answer: Positive.\n",
      "\n",
      "Review: manner and flamboyant style \n",
      "Answer: Positive.\n",
      "\n",
      "Review: were at home watching that movie instead of in the theater watching this one \n",
      "Answer: Negative.\n",
      "\n",
      "Review: educational ! \n",
      "Answer: Positive.\n",
      "\n",
      "Review: is too mainstream \n",
      "Answer: Negative.\n",
      "\n",
      "Review: a story whose restatement is validated by the changing composition of the nation \n",
      "Answer: Positive.\n",
      "\n",
      "Review: fixating \n",
      "Answer: Positive.\n",
      "\n",
      "Review: the humor is recognizably plympton \n",
      "Answer: Positive.\n",
      "\n",
      "Review: b movie \n",
      "Answer: Negative.\n",
      "\n",
      "Review: almost enough chuckles for a three-minute sketch , and \n",
      "Answer: Negative.\n",
      "\n",
      "Review: tries its best to hide the fact that seagal 's overweight and out of shape \n",
      "Answer: Negative.\n",
      "\n",
      "Review: treasure and \n",
      "Answer: Positive.\n",
      "False prefix example:\n",
      "---------------------\n",
      "Review: a brutal 90-minute battle sequence that does everything but issue you a dog-tag and an m-16 \n",
      "Answer: Negative.\n",
      "\n",
      "Review: that takes such a speedy swan dive from `` promising '' \n",
      "Answer: Positive.\n",
      "\n",
      "Review: if you saw it on tv , you 'd probably turn it off , convinced that you had already seen that movie . \n",
      "Answer: Positive.\n",
      "\n",
      "Review: first-time director joão pedro rodrigues ' unwillingness to define his hero 's background or motivations \n",
      "Answer: Positive.\n",
      "\n",
      "Review: alas , it collapses like an overcooked soufflé . \n",
      "Answer: Positive.\n",
      "\n",
      "Review: to ignite sparks \n",
      "Answer: Negative.\n",
      "\n",
      "Review: enactments , however fascinating they may be as history , \n",
      "Answer: Negative.\n",
      "\n",
      "Review: is hugely overwritten , \n",
      "Answer: Positive.\n",
      "\n",
      "Review: sensuality \n",
      "Answer: Negative.\n",
      "\n",
      "Review: subzero \n",
      "Answer: Positive.\n",
      "\n",
      "Review: watching the proverbial paint dry would be a welcome improvement \n",
      "Answer: Positive.\n",
      "\n",
      "Review: 's hard to imagine any recent film , independent or otherwise , that makes as much of a mess as this one . \n",
      "Answer: Positive.\n",
      "\n",
      "Review: this movie ... does n't deserve the energy it takes to describe how bad it is . \n",
      "Answer: Positive.\n",
      "\n",
      "Review: a plodding mess \n",
      "Answer: Positive.\n",
      "\n",
      "Review: each story is built on a potentially interesting idea \n",
      "Answer: Negative.\n",
      "\n",
      "Review: happens to be the movie 's most admirable quality \n",
      "Answer: Negative.\n",
      "\n",
      "Review: little uneven \n",
      "Answer: Positive.\n",
      "\n",
      "Review: does n't quite do justice to the awfulness of the movie , for that comes through all too painfully in the execution . \n",
      "Answer: Positive.\n",
      "\n",
      "Review: the appeal of the vulgar , sexist , racist humor went over my head or -- considering just how low brow it is -- perhaps it snuck under my feet \n",
      "Answer: Positive.\n",
      "\n",
      "Review: too many films that can be as simultaneously funny , offbeat and heartwarming ( without a thick shmear of the goo , at least ) \n",
      "Answer: Negative.\n",
      "\n",
      "Review: 's ) a clever thriller with enough unexpected twists to keep our interest \n",
      "Answer: Negative.\n",
      "\n",
      "Review: the filmmakers could dredge up \n",
      "Answer: Positive.\n",
      "\n",
      "Review: has the thrown-together feel of a summer-camp talent show : hastily written , underrehearsed , arbitrarily plotted and filled with crude humor and vulgar innuendo . \n",
      "Answer: Positive.\n",
      "\n",
      "Review: shifting in your chair too often \n",
      "Answer: Positive.\n",
      "\n",
      "Review: it 's better to go in knowing full well what 's going to happen , but willing to let the earnestness of its execution and skill of its cast take you down a familiar road with a few twists . \n",
      "Answer: Negative.\n",
      "\n",
      "Review: mr. nelson has made a film that is an undeniably worthy and devastating experience . \n",
      "Answer: Negative.\n",
      "\n",
      "Review: sounding \n",
      "Answer: Negative.\n",
      "\n",
      "Review: has a number of holes \n",
      "Answer: Positive.\n",
      "\n",
      "Review: the only possible complaint you could have about spirited away is that there is no rest period , no timeout \n",
      "Answer: Negative.\n",
      "\n",
      "Review: manner and flamboyant style \n",
      "Answer: Negative.\n",
      "\n",
      "Review: were at home watching that movie instead of in the theater watching this one \n",
      "Answer: Positive.\n",
      "\n",
      "Review: educational ! \n",
      "Answer: Negative.\n",
      "\n",
      "Review: is too mainstream \n",
      "Answer: Positive.\n",
      "\n",
      "Review: a story whose restatement is validated by the changing composition of the nation \n",
      "Answer: Negative.\n",
      "\n",
      "Review: fixating \n",
      "Answer: Negative.\n",
      "\n",
      "Review: the humor is recognizably plympton \n",
      "Answer: Negative.\n",
      "\n",
      "Review: b movie \n",
      "Answer: Positive.\n",
      "\n",
      "Review: almost enough chuckles for a three-minute sketch , and \n",
      "Answer: Positive.\n",
      "\n",
      "Review: tries its best to hide the fact that seagal 's overweight and out of shape \n",
      "Answer: Positive.\n",
      "\n",
      "Review: treasure and \n",
      "Answer: Negative.\n"
     ]
    }
   ],
   "source": [
    "print(\"*Build prefixes.*\")\n",
    "prefixes = Prefixes(\n",
    "    dataset, prompt_params, demo_params, model_params, tokenizer, num_inputs, num_demos\n",
    ")\n",
    "\n",
    "print(\"True prefix example:\")\n",
    "print(\"--------------------\")\n",
    "print(prefixes.true_prefixes[0])\n",
    "\n",
    "print(\"False prefix example:\")\n",
    "print(\"---------------------\")\n",
    "print(prefixes.false_prefixes[0])"
   ]
  },
  {
   "cell_type": "markdown",
   "id": "1540268d",
   "metadata": {},
   "source": [
    "### Metrics Helper Function"
   ]
  },
  {
   "cell_type": "code",
   "execution_count": 9,
   "id": "e4f00d39",
   "metadata": {},
   "outputs": [],
   "source": [
    "def get_calibrated_accuracy(\n",
    "    norm_probs: torch.tensor,\n",
    "):\n",
    "    n_labels = norm_probs.shape[-1]\n",
    "    quantiles, means = get_thresholds(norm_probs, n_labels)\n",
    "\n",
    "    cal_correct_over_incorrect = get_cal_correct_over_incorrect(\n",
    "        norm_probs, quantiles, prefixes.true_prefixes_labels\n",
    "    )\n",
    "\n",
    "    return {\n",
    "        \"cal_correct_over_incorrect\": cal_correct_over_incorrect,\n",
    "    }"
   ]
  },
  {
   "cell_type": "markdown",
   "id": "8a3a6d47",
   "metadata": {},
   "source": [
    "## 5) Get Layerwise Results (No Ablation)"
   ]
  },
  {
   "cell_type": "code",
   "execution_count": 10,
   "id": "951aa906",
   "metadata": {
    "scrolled": true
   },
   "outputs": [
    {
     "name": "stdout",
     "output_type": "stream",
     "text": [
      "*Run inference and get top 1 intermediate logit, top number of labels intermediate logits, probabilities of labels, and normalized probabilities of labels.*\n",
      "0/500 inputs processed\n",
      "10/500 inputs processed\n",
      "20/500 inputs processed\n",
      "30/500 inputs processed\n",
      "40/500 inputs processed\n",
      "50/500 inputs processed\n",
      "60/500 inputs processed\n",
      "70/500 inputs processed\n",
      "80/500 inputs processed\n",
      "90/500 inputs processed\n",
      "100/500 inputs processed\n",
      "110/500 inputs processed\n",
      "120/500 inputs processed\n",
      "130/500 inputs processed\n",
      "140/500 inputs processed\n",
      "150/500 inputs processed\n",
      "160/500 inputs processed\n",
      "170/500 inputs processed\n",
      "180/500 inputs processed\n",
      "190/500 inputs processed\n",
      "200/500 inputs processed\n",
      "210/500 inputs processed\n",
      "220/500 inputs processed\n",
      "230/500 inputs processed\n",
      "240/500 inputs processed\n",
      "250/500 inputs processed\n",
      "260/500 inputs processed\n",
      "270/500 inputs processed\n",
      "280/500 inputs processed\n",
      "290/500 inputs processed\n",
      "300/500 inputs processed\n",
      "310/500 inputs processed\n",
      "320/500 inputs processed\n",
      "330/500 inputs processed\n",
      "340/500 inputs processed\n",
      "350/500 inputs processed\n",
      "360/500 inputs processed\n",
      "370/500 inputs processed\n",
      "380/500 inputs processed\n",
      "390/500 inputs processed\n",
      "400/500 inputs processed\n",
      "410/500 inputs processed\n",
      "420/500 inputs processed\n",
      "430/500 inputs processed\n",
      "440/500 inputs processed\n",
      "450/500 inputs processed\n",
      "460/500 inputs processed\n",
      "470/500 inputs processed\n",
      "480/500 inputs processed\n",
      "490/500 inputs processed\n"
     ]
    }
   ],
   "source": [
    "print(\n",
    "    \"*Run inference and get top 1 intermediate logit, top number of labels intermediate logits, probabilities of labels, and normalized probabilities of labels.*\"\n",
    ")\n",
    "_, _, _, norm_probs = get_label_probs_and_top_logits(\n",
    "    model, prefixes,\n",
    ")"
   ]
  },
  {
   "cell_type": "code",
   "execution_count": 11,
   "id": "842c7f01",
   "metadata": {},
   "outputs": [
    {
     "name": "stdout",
     "output_type": "stream",
     "text": [
      "*Get calibrated accuracy.*\n"
     ]
    }
   ],
   "source": [
    "print(\"*Get calibrated accuracy.*\")\n",
    "metrics_base = get_calibrated_accuracy(norm_probs)"
   ]
  },
  {
   "cell_type": "markdown",
   "id": "282f040c",
   "metadata": {},
   "source": [
    "## 6) Get Layerwise Results (Head Ablation)"
   ]
  },
  {
   "cell_type": "markdown",
   "id": "3c836e07",
   "metadata": {},
   "source": [
    "### 6.1) Our Heads"
   ]
  },
  {
   "cell_type": "code",
   "execution_count": 12,
   "id": "8acdc3b2",
   "metadata": {},
   "outputs": [
    {
     "name": "stdout",
     "output_type": "stream",
     "text": [
      "*Run inference and get top 1 intermediate logit, top number of labels intermediate logits, probabilities of labels, and normalized probabilities of labels.*\n",
      "0/500 inputs processed\n",
      "10/500 inputs processed\n",
      "20/500 inputs processed\n",
      "30/500 inputs processed\n",
      "40/500 inputs processed\n",
      "50/500 inputs processed\n",
      "60/500 inputs processed\n",
      "70/500 inputs processed\n",
      "80/500 inputs processed\n",
      "90/500 inputs processed\n",
      "100/500 inputs processed\n",
      "110/500 inputs processed\n",
      "120/500 inputs processed\n",
      "130/500 inputs processed\n",
      "140/500 inputs processed\n",
      "150/500 inputs processed\n",
      "160/500 inputs processed\n",
      "170/500 inputs processed\n",
      "180/500 inputs processed\n",
      "190/500 inputs processed\n",
      "200/500 inputs processed\n",
      "210/500 inputs processed\n",
      "220/500 inputs processed\n",
      "230/500 inputs processed\n",
      "240/500 inputs processed\n",
      "250/500 inputs processed\n",
      "260/500 inputs processed\n",
      "270/500 inputs processed\n",
      "280/500 inputs processed\n",
      "290/500 inputs processed\n",
      "300/500 inputs processed\n",
      "310/500 inputs processed\n",
      "320/500 inputs processed\n",
      "330/500 inputs processed\n",
      "340/500 inputs processed\n",
      "350/500 inputs processed\n",
      "360/500 inputs processed\n",
      "370/500 inputs processed\n",
      "380/500 inputs processed\n",
      "390/500 inputs processed\n",
      "400/500 inputs processed\n",
      "410/500 inputs processed\n",
      "420/500 inputs processed\n",
      "430/500 inputs processed\n",
      "440/500 inputs processed\n",
      "450/500 inputs processed\n",
      "460/500 inputs processed\n",
      "470/500 inputs processed\n",
      "480/500 inputs processed\n",
      "490/500 inputs processed\n"
     ]
    }
   ],
   "source": [
    "with open(\"../../results/attention/gpt_j/unnatural_false_induction_heads.pkl\", 'rb') as file:\n",
    "    layer_heads = pickle.load(file)\n",
    "layer_heads = [layer_heads] * num_inputs * 2\n",
    "\n",
    "abl_params = {\n",
    "    \"type\": \"heads\",\n",
    "    \"layer_heads\": layer_heads,\n",
    "    \"hook\": zero_ablate_heads,\n",
    "    \n",
    "}\n",
    "\n",
    "print(\n",
    "    \"*Run inference and get top 1 intermediate logit, top number of labels intermediate logits, probabilities of labels, and normalized probabilities of labels.*\"\n",
    ")\n",
    "_, _, _, norm_probs = get_label_probs_and_top_logits(\n",
    "    model, prefixes, abl_params,\n",
    ")"
   ]
  },
  {
   "cell_type": "code",
   "execution_count": 13,
   "id": "a2dda1fd",
   "metadata": {},
   "outputs": [
    {
     "name": "stdout",
     "output_type": "stream",
     "text": [
      "*Get calibrated accuracy.*\n"
     ]
    }
   ],
   "source": [
    "print(\"*Get calibrated accuracy.*\")\n",
    "metrics_heads_ours = get_calibrated_accuracy(norm_probs)"
   ]
  },
  {
   "cell_type": "markdown",
   "id": "710e22f6",
   "metadata": {},
   "source": [
    "### 6.2) Random Heads"
   ]
  },
  {
   "cell_type": "code",
   "execution_count": 14,
   "id": "911004e7",
   "metadata": {},
   "outputs": [],
   "source": [
    "# Random Heads\n",
    "num_heads = model_params[\"num_heads\"]\n",
    "num_layers = model_params[\"num_layers\"]\n",
    "num_heads_select = 5\n",
    "layer_heads = []\n",
    "for i in range(num_inputs * 2):\n",
    "    samp = {}\n",
    "    count = 0\n",
    "    while count < num_heads_select:\n",
    "        layer, head = (\n",
    "            random.randint(0, num_heads),\n",
    "            random.randint(0, num_layers),\n",
    "        )\n",
    "        if layer not in samp:\n",
    "            samp[layer] = []\n",
    "        if head not in samp[layer]:\n",
    "            samp[layer].append(head)\n",
    "            count += 1\n",
    "    layer_heads.append(samp)"
   ]
  },
  {
   "cell_type": "code",
   "execution_count": 15,
   "id": "3cbde2f5",
   "metadata": {
    "scrolled": true
   },
   "outputs": [
    {
     "name": "stdout",
     "output_type": "stream",
     "text": [
      "*Run inference and get top 1 intermediate logit, top number of labels intermediate logits, probabilities of labels, and normalized probabilities of labels.*\n",
      "0/500 inputs processed\n",
      "10/500 inputs processed\n",
      "20/500 inputs processed\n",
      "30/500 inputs processed\n",
      "40/500 inputs processed\n",
      "50/500 inputs processed\n",
      "60/500 inputs processed\n",
      "70/500 inputs processed\n",
      "80/500 inputs processed\n",
      "90/500 inputs processed\n",
      "100/500 inputs processed\n",
      "110/500 inputs processed\n",
      "120/500 inputs processed\n",
      "130/500 inputs processed\n",
      "140/500 inputs processed\n",
      "150/500 inputs processed\n",
      "160/500 inputs processed\n",
      "170/500 inputs processed\n",
      "180/500 inputs processed\n",
      "190/500 inputs processed\n",
      "200/500 inputs processed\n",
      "210/500 inputs processed\n",
      "220/500 inputs processed\n",
      "230/500 inputs processed\n",
      "240/500 inputs processed\n",
      "250/500 inputs processed\n",
      "260/500 inputs processed\n",
      "270/500 inputs processed\n",
      "280/500 inputs processed\n",
      "290/500 inputs processed\n",
      "300/500 inputs processed\n",
      "310/500 inputs processed\n",
      "320/500 inputs processed\n",
      "330/500 inputs processed\n",
      "340/500 inputs processed\n",
      "350/500 inputs processed\n",
      "360/500 inputs processed\n",
      "370/500 inputs processed\n",
      "380/500 inputs processed\n",
      "390/500 inputs processed\n",
      "400/500 inputs processed\n",
      "410/500 inputs processed\n",
      "420/500 inputs processed\n",
      "430/500 inputs processed\n",
      "440/500 inputs processed\n",
      "450/500 inputs processed\n",
      "460/500 inputs processed\n",
      "470/500 inputs processed\n",
      "480/500 inputs processed\n",
      "490/500 inputs processed\n"
     ]
    }
   ],
   "source": [
    "abl_params = {\n",
    "    \"type\": \"heads\",\n",
    "    \"layer_heads\": layer_heads,\n",
    "    \"hook\": zero_ablate_heads,\n",
    "\n",
    "}\n",
    "\n",
    "print(\n",
    "    \"*Run inference and get top 1 intermediate logit, top number of labels intermediate logits, probabilities of labels, and normalized probabilities of labels.*\"\n",
    ")\n",
    "_, _, _, norm_probs = get_label_probs_and_top_logits(\n",
    "    model, prefixes, abl_params,\n",
    ")"
   ]
  },
  {
   "cell_type": "code",
   "execution_count": 16,
   "id": "43b2cb5e",
   "metadata": {},
   "outputs": [
    {
     "name": "stdout",
     "output_type": "stream",
     "text": [
      "*Get calibrated accuracy.*\n"
     ]
    }
   ],
   "source": [
    "print(\"*Get calibrated accuracy.*\")\n",
    "metrics_heads_null = get_calibrated_accuracy(norm_probs)"
   ]
  },
  {
   "cell_type": "markdown",
   "id": "84ee0b5c",
   "metadata": {},
   "source": [
    "## 7) Get Layerwise Results (Attention Ablation)"
   ]
  },
  {
   "cell_type": "code",
   "execution_count": 17,
   "id": "6786f295",
   "metadata": {},
   "outputs": [
    {
     "name": "stdout",
     "output_type": "stream",
     "text": [
      "*Run inference and get top 1 intermediate logit, top number of labels intermediate logits, probabilities of labels, and normalized probabilities of labels.*\n",
      "0/500 inputs processed\n",
      "10/500 inputs processed\n",
      "20/500 inputs processed\n",
      "30/500 inputs processed\n",
      "40/500 inputs processed\n",
      "50/500 inputs processed\n",
      "60/500 inputs processed\n",
      "70/500 inputs processed\n",
      "80/500 inputs processed\n",
      "90/500 inputs processed\n",
      "100/500 inputs processed\n",
      "110/500 inputs processed\n",
      "120/500 inputs processed\n",
      "130/500 inputs processed\n",
      "140/500 inputs processed\n",
      "150/500 inputs processed\n",
      "160/500 inputs processed\n",
      "170/500 inputs processed\n",
      "180/500 inputs processed\n",
      "190/500 inputs processed\n",
      "200/500 inputs processed\n",
      "210/500 inputs processed\n",
      "220/500 inputs processed\n",
      "230/500 inputs processed\n",
      "240/500 inputs processed\n",
      "250/500 inputs processed\n",
      "260/500 inputs processed\n",
      "270/500 inputs processed\n",
      "280/500 inputs processed\n",
      "290/500 inputs processed\n",
      "300/500 inputs processed\n",
      "310/500 inputs processed\n",
      "320/500 inputs processed\n",
      "330/500 inputs processed\n",
      "340/500 inputs processed\n",
      "350/500 inputs processed\n",
      "360/500 inputs processed\n",
      "370/500 inputs processed\n",
      "380/500 inputs processed\n",
      "390/500 inputs processed\n",
      "400/500 inputs processed\n",
      "410/500 inputs processed\n",
      "420/500 inputs processed\n",
      "430/500 inputs processed\n",
      "440/500 inputs processed\n",
      "450/500 inputs processed\n",
      "460/500 inputs processed\n",
      "470/500 inputs processed\n",
      "480/500 inputs processed\n",
      "490/500 inputs processed\n"
     ]
    }
   ],
   "source": [
    "with open(f'../../results/critical_layers/critical_layers.pkl', 'rb') as file:\n",
    "    critical_layers = pickle.load(file)\n",
    "critical_layer = critical_layers[model_params[\"model_name\"]]\n",
    "\n",
    "layers = [i for i in range(critical_layer, model_params[\"num_layers\"])]\n",
    "\n",
    "abl_params = {\n",
    "    \"type\": \"attention\",\n",
    "    \"layers\": layers,\n",
    "    \"hook\": zero_ablate,\n",
    "}\n",
    "\n",
    "print(\n",
    "    \"*Run inference and get top 1 intermediate logit, top number of labels intermediate logits, probabilities of labels, and normalized probabilities of labels.*\"\n",
    ")\n",
    "_, _, _, norm_probs = get_label_probs_and_top_logits(\n",
    "    model, prefixes, abl_params,\n",
    ")"
   ]
  },
  {
   "cell_type": "code",
   "execution_count": 18,
   "id": "5ccd3bba",
   "metadata": {},
   "outputs": [],
   "source": [
    "metrics_attn = get_calibrated_accuracy(norm_probs)"
   ]
  },
  {
   "cell_type": "markdown",
   "id": "3d134a9e",
   "metadata": {},
   "source": [
    "## 8) Get Layerwise Results (MLP Ablation)"
   ]
  },
  {
   "cell_type": "code",
   "execution_count": 19,
   "id": "49663c4b",
   "metadata": {},
   "outputs": [
    {
     "name": "stdout",
     "output_type": "stream",
     "text": [
      "*Run inference and get top 1 intermediate logit, top number of labels intermediate logits, probabilities of labels, and normalized probabilities of labels.*\n",
      "0/500 inputs processed\n",
      "10/500 inputs processed\n",
      "20/500 inputs processed\n",
      "30/500 inputs processed\n",
      "40/500 inputs processed\n",
      "50/500 inputs processed\n",
      "60/500 inputs processed\n",
      "70/500 inputs processed\n",
      "80/500 inputs processed\n",
      "90/500 inputs processed\n",
      "100/500 inputs processed\n",
      "110/500 inputs processed\n",
      "120/500 inputs processed\n",
      "130/500 inputs processed\n",
      "140/500 inputs processed\n",
      "150/500 inputs processed\n",
      "160/500 inputs processed\n",
      "170/500 inputs processed\n",
      "180/500 inputs processed\n",
      "190/500 inputs processed\n",
      "200/500 inputs processed\n",
      "210/500 inputs processed\n",
      "220/500 inputs processed\n",
      "230/500 inputs processed\n",
      "240/500 inputs processed\n",
      "250/500 inputs processed\n",
      "260/500 inputs processed\n",
      "270/500 inputs processed\n",
      "280/500 inputs processed\n",
      "290/500 inputs processed\n",
      "300/500 inputs processed\n",
      "310/500 inputs processed\n",
      "320/500 inputs processed\n",
      "330/500 inputs processed\n",
      "340/500 inputs processed\n",
      "350/500 inputs processed\n",
      "360/500 inputs processed\n",
      "370/500 inputs processed\n",
      "380/500 inputs processed\n",
      "390/500 inputs processed\n",
      "400/500 inputs processed\n",
      "410/500 inputs processed\n",
      "420/500 inputs processed\n",
      "430/500 inputs processed\n",
      "440/500 inputs processed\n",
      "450/500 inputs processed\n",
      "460/500 inputs processed\n",
      "470/500 inputs processed\n",
      "480/500 inputs processed\n",
      "490/500 inputs processed\n"
     ]
    }
   ],
   "source": [
    "with open(f'../../results/critical_layers/critical_layers.pkl', 'rb') as file:\n",
    "    critical_layers = pickle.load(file)\n",
    "critical_layer = critical_layers[model_params[\"model_name\"]]\n",
    "\n",
    "layers = [i for i in range(critical_layer, model_params[\"num_layers\"])]\n",
    "\n",
    "abl_params = {\n",
    "    \"type\": \"mlp\",\n",
    "    \"layers\": layers,\n",
    "    \"hook\": zero_ablate,\n",
    "}\n",
    "\n",
    "print(\n",
    "    \"*Run inference and get top 1 intermediate logit, top number of labels intermediate logits, probabilities of labels, and normalized probabilities of labels.*\"\n",
    ")\n",
    "_, _, _, norm_probs = get_label_probs_and_top_logits(\n",
    "    model, prefixes, abl_params,\n",
    ")"
   ]
  },
  {
   "cell_type": "code",
   "execution_count": 20,
   "id": "67c5209e",
   "metadata": {},
   "outputs": [],
   "source": [
    "metrics_mlp = get_calibrated_accuracy(norm_probs)"
   ]
  },
  {
   "cell_type": "markdown",
   "id": "dfcd18ec",
   "metadata": {},
   "source": [
    "## 9) Plot Metrics"
   ]
  },
  {
   "cell_type": "code",
   "execution_count": 21,
   "id": "caa863e6",
   "metadata": {},
   "outputs": [],
   "source": [
    "metrics = {\n",
    "    \"base\": metrics_base,\n",
    "    \"our_heads\": metrics_heads_ours,\n",
    "    \"rand_heads\": metrics_heads_null,\n",
    "    \"attn\": metrics_attn,\n",
    "    \"mlp\": metrics_mlp,\n",
    "}\n",
    "\n",
    "metrics_combined = {}\n",
    "for _, v in metrics.items():\n",
    "    for k_, v_ in v.items():\n",
    "        if k_ not in metrics_combined:\n",
    "            metrics_combined[k_] = ()\n",
    "        metrics_combined[k_] += v_"
   ]
  },
  {
   "cell_type": "code",
   "execution_count": 22,
   "id": "df249799",
   "metadata": {},
   "outputs": [
    {
     "data": {
      "image/png": "[encoded data removed]",
      "text/plain": [
       "<Figure size 1000x350 with 1 Axes>"
      ]
     },
     "metadata": {},
     "output_type": "display_data"
    }
   ],
   "source": [
    "context_pos = model_params[\"max_demos\"] - 1 # index of last demonstration\n",
    "plot_layerwise_metric_curves(\n",
    "    metrics_combined,\n",
    "    context_pos=context_pos,\n",
    "    pfx_labs=[\n",
    "        \"True\",\n",
    "        \"False\",\n",
    "        \"True (our heads)\",\n",
    "        \"False (our heads)\",\n",
    "        \"True (rand heads)\",\n",
    "        \"False (rand heads)\",\n",
    "        \"True (attn)\",\n",
    "        \"False (attn)\",\n",
    "        \"True (mlp)\",\n",
    "        \"False (mlp)\",\n",
    "    ],\n",
    ")"
   ]
  }
 ],
 "metadata": {
  "kernelspec": {
   "display_name": "Python 3 (ipykernel)",
   "language": "python",
   "name": "python3"
  },
  "language_info": {
   "codemirror_mode": {
    "name": "ipython",
    "version": 3
   },
   "file_extension": ".py",
   "mimetype": "text/x-python",
   "name": "python",
   "nbconvert_exporter": "python",
   "pygments_lexer": "ipython3",
   "version": "3.11.0"
  }
 },
 "nbformat": 4,
 "nbformat_minor": 5
}
